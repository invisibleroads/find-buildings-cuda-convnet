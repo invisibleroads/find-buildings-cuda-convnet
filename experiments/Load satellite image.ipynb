{
 "metadata": {
  "name": ""
 },
 "nbformat": 3,
 "nbformat_minor": 0,
 "worksheets": [
  {
   "cells": [
    {
     "cell_type": "code",
     "collapsed": false,
     "input": [
      "import fnmatch\n",
      "import os\n",
      "from glob import glob\n",
      "from osgeo import gdal\n",
      "\n",
      "source_folder = os.path.expanduser('~/Links/satellite-images/ruhiira/2003/Imagery/Orthorectified')\n",
      "image_paths = glob(os.path.join(source_folder, '*.TIF'))\n",
      "multispectral_paths = fnmatch.filter(image_paths, '*-M2AS-*')\n",
      "panchromatic_paths = fnmatch.filter(image_paths, '*-P2AS-*')"
     ],
     "language": "python",
     "metadata": {},
     "outputs": [],
     "prompt_number": 69
    },
    {
     "cell_type": "heading",
     "level": 1,
     "metadata": {},
     "source": [
      "Load images"
     ]
    },
    {
     "cell_type": "code",
     "collapsed": false,
     "input": [
      "image_path = multispectral_paths[0]\n",
      "image = gdal.Open(image_path)\n",
      "print (image.RasterXSize, image.RasterYSize)\n",
      "print image.GetGeoTransform()\n",
      "print image.RasterCount"
     ],
     "language": "python",
     "metadata": {},
     "outputs": [
      {
       "output_type": "stream",
       "stream": "stdout",
       "text": [
        "(2816, 2941)\n",
        "(231249.6, 2.4, 0.0, 9898788.0, 0.0, -2.4)\n",
        "4\n"
       ]
      }
     ],
     "prompt_number": 136
    },
    {
     "cell_type": "code",
     "collapsed": false,
     "input": [
      "print gdal.GDT_Byte\n",
      "print gdal.GDT_UInt16\n",
      "print gdal.GDT_Float32"
     ],
     "language": "python",
     "metadata": {},
     "outputs": [
      {
       "output_type": "stream",
       "stream": "stdout",
       "text": [
        "1\n",
        "2\n",
        "6\n"
       ]
      }
     ],
     "prompt_number": 99
    },
    {
     "cell_type": "code",
     "collapsed": false,
     "input": [
      "band = image.GetRasterBand(1)\n",
      "print band.DataType\n",
      "print len(band.ReadRaster(0, 0, 10, 10))\n",
      "print len(band.ReadRaster(0, 0, 10, 10, buf_type=gdal.GDT_Float32))"
     ],
     "language": "python",
     "metadata": {},
     "outputs": [
      {
       "output_type": "stream",
       "stream": "stdout",
       "text": [
        "2\n",
        "200\n",
        "100\n",
        "400\n"
       ]
      }
     ],
     "prompt_number": 103
    },
    {
     "cell_type": "code",
     "collapsed": false,
     "input": [
      "raw_values = band.ReadRaster(500, 500, 10, 5)\n",
      "raw_values"
     ],
     "language": "python",
     "metadata": {},
     "outputs": [
      {
       "metadata": {},
       "output_type": "pyout",
       "prompt_number": 116,
       "text": [
        "'\\xd8\\x00\\xd4\\x00\\xdf\\x00\\xe8\\x00\\xf1\\x00\\xf1\\x00\\xf1\\x00\\xf1\\x00\\xf5\\x00\\xf7\\x00\\xd8\\x00\\xd4\\x00\\xd6\\x00\\xdf\\x00\\xf0\\x00\\xf0\\x00\\xdc\\x00\\xf6\\x00\\xf5\\x00\\xf7\\x00\\xd7\\x00\\xd4\\x00\\xd5\\x00\\xd4\\x00\\xd4\\x00\\xdc\\x00\\xd9\\x00\\xec\\x00\\xee\\x00\\xe6\\x00\\xe0\\x00\\xdd\\x00\\xda\\x00\\xda\\x00\\xd8\\x00\\xe1\\x00\\xe1\\x00\\xde\\x00\\xe2\\x00\\xdb\\x00\\xf7\\x00\\xf6\\x00\\xf7\\x00\\xf7\\x00\\xe7\\x00\\xe3\\x00\\xe3\\x00\\xdf\\x00\\xd7\\x00\\xd9\\x00'"
       ]
      }
     ],
     "prompt_number": 116
    },
    {
     "cell_type": "code",
     "collapsed": false,
     "input": [
      "band.ReadRaster(2800, 2900, 100, 100)"
     ],
     "language": "python",
     "metadata": {},
     "outputs": [],
     "prompt_number": 135
    },
    {
     "cell_type": "code",
     "collapsed": false,
     "input": [
      "typeByGDT = {\n",
      "    gdal.GDT_Byte: 'B',\n",
      "    gdal.GDT_UInt16: 'H',\n",
      "}\n",
      "modeByType = {\n",
      "    gdal.GDT_Byte: 'L',\n",
      "    gdal.GDT_UInt16: 'I;16',\n",
      "}\n",
      "width, height = 10, 5\n",
      "length = width * height\n",
      "\n",
      "import struct\n",
      "values = struct.unpack('%d%s' % (length, typeByGDT[band.DataType]), raw_values)\n",
      "array = np.reshape(values, (height, width))\n",
      "print array"
     ],
     "language": "python",
     "metadata": {},
     "outputs": [
      {
       "output_type": "stream",
       "stream": "stdout",
       "text": [
        "[[216 212 223 232 241 241 241 241 245 247]\n",
        " [216 212 214 223 240 240 220 246 245 247]\n",
        " [215 212 213 212 212 220 217 236 238 230]\n",
        " [224 221 218 218 216 225 225 222 226 219]\n",
        " [247 246 247 247 231 227 227 223 215 217]]\n"
       ]
      }
     ],
     "prompt_number": 117
    },
    {
     "cell_type": "code",
     "collapsed": false,
     "input": [
      "import struct\n",
      "struct.unpack?"
     ],
     "language": "python",
     "metadata": {},
     "outputs": [],
     "prompt_number": 132
    },
    {
     "cell_type": "code",
     "collapsed": false,
     "input": [
      "a = [[1,2],[3,4]]\n",
      "b = [[5,6],[7,8]]\n",
      "x = np.dstack((a,b))\n",
      "print x[1][0][0]"
     ],
     "language": "python",
     "metadata": {},
     "outputs": [
      {
       "output_type": "stream",
       "stream": "stdout",
       "text": [
        "3\n"
       ]
      }
     ],
     "prompt_number": 131
    },
    {
     "cell_type": "code",
     "collapsed": false,
     "input": [
      "a[0]"
     ],
     "language": "python",
     "metadata": {},
     "outputs": [
      {
       "metadata": {},
       "output_type": "pyout",
       "prompt_number": 121,
       "text": [
        "[1, 2]"
       ]
      }
     ],
     "prompt_number": 121
    },
    {
     "cell_type": "code",
     "collapsed": false,
     "input": [
      "print multispectral_paths[0]\n",
      "print panchromatic_paths[0]"
     ],
     "language": "python",
     "metadata": {},
     "outputs": [
      {
       "output_type": "stream",
       "stream": "stdout",
       "text": [
        "/home/rhh/Links/satellite-images/ruhiira/2003/Imagery/Orthorectified/03JUN22080921-M2AS-005604702010_01_P001.TIF\n",
        "/home/rhh/Links/satellite-images/ruhiira/2003/Imagery/Orthorectified/03JUN22080921-P2AS-005604702010_01_P001.TIF\n"
       ]
      }
     ],
     "prompt_number": 65
    },
    {
     "cell_type": "code",
     "collapsed": false,
     "input": [
      "meter_dimensions = 10, 10\n",
      "multispectral_image = SatelliteImage(multispectral_paths[0])\n",
      "panchromatic_image = SatelliteImage(panchromatic_paths[0])\n",
      "mixed_scope = MixedImageScope([multispectral_image, panchromatic_image], meter_dimensions)\n",
      "\n",
      "for index, center in enumerate(mixed_scope.get_centers()):\n",
      "    values = mixed_scope.get_values(center)\n",
      "    save_values(target_path % index, values)"
     ],
     "language": "python",
     "metadata": {},
     "outputs": []
    },
    {
     "cell_type": "code",
     "collapsed": false,
     "input": [
      "round(-10.7)"
     ],
     "language": "python",
     "metadata": {},
     "outputs": [
      {
       "metadata": {},
       "output_type": "pyout",
       "prompt_number": 8,
       "text": [
        "-11.0"
       ]
      }
     ],
     "prompt_number": 8
    },
    {
     "cell_type": "code",
     "collapsed": false,
     "input": [
      "    maxRight = multispectralImage.width - multispectralWindowWidth\n",
      "    maxBottom = multispectralImage.height - multispectralWindowHeight\n",
      "    if frame:\n",
      "        left, top, right, bottom = frame\n",
      "        # Include overlap outside frame\n",
      "        right = min(right, maxRight)\n",
      "        bottom = min(bottom, maxBottom)\n",
      "    else:\n",
      "        left, top, right, bottom = 0, 0, maxRight, maxBottom\n",
      "    multispectralWindowLocations = [(x, y)\n",
      "        for x in xrange(left, right, int(multispectralWindowWidth / scanRatio))\n",
      "        for y in xrange(top, bottom, int(multispectralWindowHeight / scanRatio))]"
     ],
     "language": "python",
     "metadata": {},
     "outputs": []
    },
    {
     "cell_type": "code",
     "collapsed": false,
     "input": [
      "from osgeo import osr\n",
      "\n",
      "spatial_reference = osr.SpatialReference()\n",
      "spatial_reference"
     ],
     "language": "python",
     "metadata": {},
     "outputs": [
      {
       "metadata": {},
       "output_type": "pyout",
       "prompt_number": 68,
       "text": [
        "<osgeo.osr.SpatialReference; proxy of <Swig Object of type 'OSRSpatialReferenceShadow *' at 0x3a6b150> >"
       ]
      }
     ],
     "prompt_number": 68
    },
    {
     "cell_type": "code",
     "collapsed": false,
     "input": [
      "    def isWindowInside(self, left, top, width, height):\n",
      "        right = left + width\n",
      "        bottom = top + height\n",
      "        if left >= 0 and top >= 0 and right <= self.width and bottom <= self.height: return True\n",
      "\n",
      "    def getValues(self):\n",
      "        if not self.values:\n",
      "            length = self.width * self.height\n",
      "            self.values = [struct.unpack('%d%s' % (length, typeByGDT[x[0]]), x[1]) for x in self.packs]\n",
      "        return self.values\n",
      "\n",
      "    def getMatrices(self):\n",
      "        if not self.matrices:\n",
      "            self.matrices = [numpy.reshape(x, (self.height, self.width)) for x in self.getValues()]\n",
      "        return self.matrices\n",
      "\n",
      "    def getMatrixImages(self, imageWidthInPixels, imageHeightInPixels):\n",
      "        imageDimensions = imageWidthInPixels, imageHeightInPixels\n",
      "        if not self.matrixImages[0] or self.matrixImages[1] != imageDimensions:\n",
      "            self.matrixImages = getImages_pylab('matshow', self.getMatrices(), *imageDimensions), imageDimensions\n",
      "        return self.matrixImages[0]\n",
      "\n",
      "    def getImages_pylab(self, imageWidthInPixels, imageHeightInPixels):\n",
      "        imageDimensions = imageWidthInPixels, imageHeightInPixels\n",
      "        if not self.images_pylab[0] or self.images_pylab[1] != imageDimensions:\n",
      "            self.images_pylab = getImages_pylab('imshow', self.getMatrices(), *imageDimensions), imageDimensions\n",
      "        return self.images_pylab[0]\n",
      "\n",
      "def getPixelsInFrame(frame):\n",
      "    left, top, right, bottom = frame\n",
      "    xRange = xrange(left, right)\n",
      "    yRange = xrange(top, bottom)\n",
      "    return [(x, y) for x in xRange for y in yRange]\n",
      "\n",
      "def getImages_pylab(string_method, matrices, imageWidthInPixels, imageHeightInPixels):\n",
      "    # Initialize\n",
      "    images = []\n",
      "    convertPixelLengthToInchLength = lambda x: x / float(matplotlib.rc_params()['figure.dpi'])\n",
      "    imageWidthInInches = convertPixelLengthToInchLength(imageWidthInPixels)\n",
      "    imageHeightInInches = convertPixelLengthToInchLength(imageHeightInPixels)\n",
      "    imageDimensions = imageWidthInInches, imageHeightInInches\n",
      "    # For each matrix,\n",
      "    for matrix in matrices:\n",
      "        # Create a new figure\n",
      "        pylab.figure(figsize=imageDimensions)\n",
      "        axes = pylab.axes()\n",
      "        # Plot grayscale matrix\n",
      "        method = getattr(axes, string_method)\n",
      "        method(matrix, cmap=pylab.cm.gray)\n",
      "        # Clear tick marks\n",
      "        axes.set_xticks([])\n",
      "        axes.set_yticks([])\n",
      "        # Save image\n",
      "        imageFile = StringIO.StringIO()\n",
      "        pylab.savefig(imageFile, format='png')\n",
      "        imageFile.seek(0)\n",
      "        # Append\n",
      "        images.append(Image.open(imageFile))\n",
      "    # Return\n",
      "    return images"
     ],
     "language": "python",
     "metadata": {},
     "outputs": []
    },
    {
     "cell_type": "code",
     "collapsed": false,
     "input": [
      "from sympy import solve, symbols\n",
      "g0, g1, g2, g3, g4, g5 = symbols('g0 g1 g2 g3 g4 g5')\n",
      "gx, gy = symbols('gx gy')\n",
      "px, py = symbols('px py')\n",
      "\n",
      "solve([\n",
      "    g0 + px * g1 + py * g2 - x,\n",
      "    g3 + px * g4 + py * g5 - y\n",
      "], [px, py])"
     ],
     "language": "python",
     "metadata": {},
     "outputs": [
      {
       "metadata": {},
       "output_type": "pyout",
       "prompt_number": 9,
       "text": [
        "{px: (-g0*g5 + g2*g3 - g2*y + g5*x)/(g1*g5 - g2*g4),\n",
        " py: (-g1*(g3 - y) + g4*(g0 - x))/(g1*g5 - g2*g4)}"
       ]
      }
     ],
     "prompt_number": 9
    },
    {
     "cell_type": "code",
     "collapsed": false,
     "input": [
      "from numpy import random\n",
      "x = random.random(2)\n",
      "(x == x).all()"
     ],
     "language": "python",
     "metadata": {},
     "outputs": [
      {
       "metadata": {},
       "output_type": "pyout",
       "prompt_number": 41,
       "text": [
        "True"
       ]
      }
     ],
     "prompt_number": 41
    },
    {
     "cell_type": "code",
     "collapsed": false,
     "input": [
      "[2, 3] - np.array([1, 2]) / 2"
     ],
     "language": "python",
     "metadata": {},
     "outputs": [
      {
       "metadata": {},
       "output_type": "pyout",
       "prompt_number": 44,
       "text": [
        "array([2, 2])"
       ]
      }
     ],
     "prompt_number": 44
    },
    {
     "cell_type": "code",
     "collapsed": false,
     "input": [
      "pixel_center = 0, 0\n",
      "pixel_dimensions = np.array([101, 101])\n",
      "pixel_xy = pixel_center - pixel_dimensions / 2\n",
      "print pixel_xy\n",
      "print (pixel_xy + pixel_dimensions) - pixel_xy"
     ],
     "language": "python",
     "metadata": {},
     "outputs": [
      {
       "output_type": "stream",
       "stream": "stdout",
       "text": [
        "[-50 -50]\n",
        "[101 101]\n"
       ]
      }
     ],
     "prompt_number": 64
    }
   ],
   "metadata": {}
  }
 ]
}