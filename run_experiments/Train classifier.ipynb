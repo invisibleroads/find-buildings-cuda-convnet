{
 "metadata": {
  "name": "",
  "signature": "sha256:913673e2bc09211ea53529c2f0e463e07c3a7231b775273801362ccc07da7c02"
 },
 "nbformat": 3,
 "nbformat_minor": 0,
 "worksheets": [
  {
   "cells": [
    {
     "cell_type": "markdown",
     "metadata": {},
     "source": [
      "- https://github.com/zygmuntz/kaggle-cifar\n",
      "- http://fastml.com/object-recognition-in-images-with-cuda-convnet/\n",
      "- http://fastml.com/regularizing-neural-networks-with-dropout-and-with-dropconnect/\n",
      "- https://code.google.com/p/cuda-convnet/\n",
      "- https://code.google.com/p/pynnet/\n",
      "- https://github.com/rjpower/fastnet\n",
      "- https://code.google.com/p/neurolab/\n",
      "- https://github.com/dnouri/noccn\n",
      "- https://github.com/iskandr/striate\n",
      "- http://deeplearning.net/software/pylearn2/\n",
      "- http://deeplearning.net/software/theano/\n",
      "- http://opencv.org/\n",
      "- http://pybrain.org/\n",
      "- http://scikit-image.org/\n",
      "- http://scikit-learn.org/dev/"
     ]
    },
    {
     "cell_type": "code",
     "collapsed": false,
     "input": [
      "# Load dataset\n",
      "import os\n",
      "source_folder = os.path.expanduser('~/Datasets/myanmar')\n",
      "source_path = os.path.join(source_folder, 's10x10.h5')\n",
      "import h5py\n",
      "f = h5py.File(source_path, 'r')\n",
      "f.keys()"
     ],
     "language": "python",
     "metadata": {},
     "outputs": [
      {
       "metadata": {},
       "output_type": "pyout",
       "prompt_number": 5,
       "text": [
        "[u'negative', u'positive']"
       ]
      }
     ],
     "prompt_number": 5
    },
    {
     "cell_type": "code",
     "collapsed": false,
     "input": [
      "f['positive']['arrays']"
     ],
     "language": "python",
     "metadata": {},
     "outputs": [
      {
       "metadata": {},
       "output_type": "pyout",
       "prompt_number": 6,
       "text": [
        "<HDF5 dataset \"arrays\": shape (2012, 20, 20, 4), type \"<f4\">"
       ]
      }
     ],
     "prompt_number": 6
    },
    {
     "cell_type": "code",
     "collapsed": false,
     "input": [
      "import numpy as np\n",
      "positives = f['positive']['arrays'][:10]\n",
      "negatives = f['negative']['arrays'][:10]\n",
      "arrays = np.row_stack([positives, negatives])\n",
      "print positives.shape\n",
      "print len(positives)\n",
      "print negatives.shape\n",
      "print len(negatives)\n",
      "print arrays.shape\n",
      "print len(arrays)\n",
      "assert (arrays[0] == positives[0]).all()\n",
      "assert (arrays[-1] == negatives[-1]).all()"
     ],
     "language": "python",
     "metadata": {},
     "outputs": [
      {
       "output_type": "stream",
       "stream": "stdout",
       "text": [
        "(10, 20, 20, 4)\n",
        "10\n",
        "(10, 20, 20, 4)\n",
        "10\n",
        "(20, 20, 20, 4)\n",
        "20\n"
       ]
      }
     ],
     "prompt_number": 7
    },
    {
     "cell_type": "code",
     "collapsed": false,
     "input": [
      "# Select fraction of dataset\n",
      "import h5py\n",
      "from random import shuffle\n",
      "\n",
      "dataset_h5 = h5py.File(source_path, 'r')\n",
      "\n",
      "def make_dataset(count):\n",
      "    positives = dataset_h5['positive']['arrays']\n",
      "    positive_count = len(positives)\n",
      "    negative_count = count - positive_count\n",
      "    negatives = dataset_h5['negative']['arrays'][:negative_count]\n",
      "    arrays = np.row_stack([positives, negatives])\n",
      "    \n",
      "    labels = np.zeros(count, dtype=bool)\n",
      "    labels[:positive_count] = True\n",
      "    \n",
      "    indices = range(count)\n",
      "    shuffle(indices)\n",
      "    return arrays[indices], labels[indices]\n",
      "\n",
      "a5k, l5k = make_dataset(5000)\n",
      "a10k, l10k = make_dataset(10000)"
     ],
     "language": "python",
     "metadata": {},
     "outputs": [],
     "prompt_number": 8
    },
    {
     "cell_type": "code",
     "collapsed": false,
     "input": [
      "print l5k[:10]"
     ],
     "language": "python",
     "metadata": {},
     "outputs": [
      {
       "output_type": "stream",
       "stream": "stdout",
       "text": [
        "[ True  True False False False  True False False  True  True]\n"
       ]
      }
     ],
     "prompt_number": 9
    },
    {
     "cell_type": "code",
     "collapsed": false,
     "input": [
      "import random\n",
      "indices = range(10)\n",
      "random.shuffle(indices)\n",
      "indices"
     ],
     "language": "python",
     "metadata": {},
     "outputs": [
      {
       "metadata": {},
       "output_type": "pyout",
       "prompt_number": 10,
       "text": [
        "[3, 0, 8, 2, 1, 9, 6, 5, 7, 4]"
       ]
      }
     ],
     "prompt_number": 10
    },
    {
     "cell_type": "code",
     "collapsed": false,
     "input": [
      "labels = np.zeros(10, dtype=bool)\n",
      "labels[:5] = 1\n",
      "print labels.dtype"
     ],
     "language": "python",
     "metadata": {},
     "outputs": [
      {
       "output_type": "stream",
       "stream": "stdout",
       "text": [
        "bool\n"
       ]
      }
     ],
     "prompt_number": 11
    },
    {
     "cell_type": "code",
     "collapsed": false,
     "input": [
      "sum(l5k)"
     ],
     "language": "python",
     "metadata": {},
     "outputs": [
      {
       "metadata": {},
       "output_type": "pyout",
       "prompt_number": 12,
       "text": [
        "2012"
       ]
      }
     ],
     "prompt_number": 12
    },
    {
     "cell_type": "code",
     "collapsed": false,
     "input": [
      "print a5k[-1].shape\n",
      "print a5k[-1].flatten().shape"
     ],
     "language": "python",
     "metadata": {},
     "outputs": [
      {
       "output_type": "stream",
       "stream": "stdout",
       "text": [
        "(20, 20, 4)\n",
        "(1600,)\n"
       ]
      }
     ],
     "prompt_number": 13
    },
    {
     "cell_type": "code",
     "collapsed": false,
     "input": [
      "f5k = [x.flatten() for x in a5k]\n",
      "# Train classifier with scikit-learn\n",
      "from sklearn import svm\n",
      "model = svm.SVC(gamma=0.001, C=100.)\n",
      "print model.fit(f5k[:-1], l5k[:-1])\n",
      "print model.predict(f5k[-1])"
     ],
     "language": "python",
     "metadata": {},
     "outputs": [
      {
       "output_type": "stream",
       "stream": "stdout",
       "text": [
        "SVC(C=100.0, cache_size=200, class_weight=None, coef0=0.0, degree=3,\n",
        "  gamma=0.001, kernel=rbf, max_iter=-1, probability=False,\n",
        "  random_state=None, shrinking=True, tol=0.001, verbose=False)\n",
        "[False]\n"
       ]
      }
     ],
     "prompt_number": 14
    },
    {
     "cell_type": "code",
     "collapsed": false,
     "input": [
      "# Evaluate model with cross validation\n",
      "from sklearn import linear_model\n",
      "from sklearn import cross_validation\n",
      "model = linear_model.LinearRegression()\n",
      "scores = cross_validation.cross_val_score(model, f5k, l5k, n_jobs=-1)\n",
      "scores.mean()"
     ],
     "language": "python",
     "metadata": {},
     "outputs": [
      {
       "metadata": {},
       "output_type": "pyout",
       "prompt_number": 15,
       "text": [
        "0.62404110797888601"
       ]
      }
     ],
     "prompt_number": 15
    },
    {
     "cell_type": "code",
     "collapsed": false,
     "input": [
      "from sklearn.externals import joblib\n",
      "target_folder = os.path.expanduser('~/Experiments')\n",
      "target_path = os.path.join(target_folder, 'model.pkl')\n",
      "joblib.dump(model, target_path)"
     ],
     "language": "python",
     "metadata": {},
     "outputs": [
      {
       "metadata": {},
       "output_type": "pyout",
       "prompt_number": 17,
       "text": [
        "['/home/rhh/Experiments/model.pkl']"
       ]
      }
     ],
     "prompt_number": 17
    },
    {
     "cell_type": "code",
     "collapsed": false,
     "input": [
      "# Train classifier with fastnet\n",
      "# Train classifier with pybrain\n",
      "# Train classifier with pynnet\n",
      "# Train classifier with cuda-convnet and noccn\n",
      "# Train classifier with dropconnect\n",
      "# Train classifier with opencv\n",
      "# Train classifier with neurolab\n",
      "# Train classifier with pylearn2\n",
      "# Train classifier with theano"
     ],
     "language": "python",
     "metadata": {},
     "outputs": []
    },
    {
     "cell_type": "code",
     "collapsed": false,
     "input": [],
     "language": "python",
     "metadata": {},
     "outputs": []
    }
   ],
   "metadata": {}
  }
 ]
}