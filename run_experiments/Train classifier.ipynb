{
 "metadata": {
  "name": "",
  "signature": "sha256:ad138e80c70e1ac03b0b0d93234f13cf08c10288073aa8c8f041c19cc92e31ae"
 },
 "nbformat": 3,
 "nbformat_minor": 0,
 "worksheets": [
  {
   "cells": [
    {
     "cell_type": "markdown",
     "metadata": {},
     "source": [
      "- https://github.com/zygmuntz/kaggle-cifar\n",
      "- http://fastml.com/object-recognition-in-images-with-cuda-convnet/\n",
      "- http://fastml.com/regularizing-neural-networks-with-dropout-and-with-dropconnect/\n",
      "- https://code.google.com/p/cuda-convnet/\n",
      "- https://code.google.com/p/pynnet/\n",
      "- https://github.com/rjpower/fastnet\n",
      "- https://code.google.com/p/neurolab/\n",
      "- https://github.com/dnouri/noccn\n",
      "- https://github.com/iskandr/striate\n",
      "- http://deeplearning.net/software/pylearn2/\n",
      "- http://deeplearning.net/software/theano/\n",
      "- http://opencv.org/\n",
      "- http://pybrain.org/\n",
      "- http://scikit-image.org/\n",
      "- http://scikit-learn.org/dev/"
     ]
    },
    {
     "cell_type": "code",
     "collapsed": false,
     "input": [
      "import os\n",
      "source_folder = os.path.expanduser('~/Datasets/Myanmar')\n",
      "source_path = os.path.join(source_folder, 's10x10-d10k.h5')\n",
      "import h5py\n",
      "dataset_h5 = h5py.File(source_path, 'r')\n",
      "arrays = dataset_h5['arrays']\n",
      "labels = dataset_h5['labels']\n",
      "print 'arrays.shape = %s' % str(arrays.shape)\n",
      "print 'labels.shape = %s' % str(labels.shape)\n",
      "print 'example_count = %s' % len(labels)\n",
      "print 'positive_count = %s' % sum(labels)"
     ],
     "language": "python",
     "metadata": {},
     "outputs": [
      {
       "output_type": "stream",
       "stream": "stdout",
       "text": [
        "arrays.shape = (10000, 20, 20, 4)\n",
        "labels.shape = (10000,)\n",
        "example_count = 10000\n",
        "positive_count = 2012"
       ]
      },
      {
       "output_type": "stream",
       "stream": "stdout",
       "text": [
        "\n"
       ]
      }
     ],
     "prompt_number": 13
    },
    {
     "cell_type": "code",
     "collapsed": false,
     "input": [
      "f5k = [x.flatten() for x in a5k]\n",
      "# Train classifier with scikit-learn\n",
      "from sklearn import svm\n",
      "model = svm.SVC(gamma=0.001, C=100.)\n",
      "print model.fit(f5k[:-1], l5k[:-1])\n",
      "print model.predict(f5k[-1])"
     ],
     "language": "python",
     "metadata": {},
     "outputs": [
      {
       "output_type": "stream",
       "stream": "stdout",
       "text": [
        "SVC(C=100.0, cache_size=200, class_weight=None, coef0=0.0, degree=3,\n",
        "  gamma=0.001, kernel=rbf, max_iter=-1, probability=False,\n",
        "  random_state=None, shrinking=True, tol=0.001, verbose=False)\n",
        "[False]\n"
       ]
      }
     ],
     "prompt_number": 14
    },
    {
     "cell_type": "code",
     "collapsed": false,
     "input": [
      "# Evaluate model with cross validation\n",
      "from sklearn import linear_model\n",
      "from sklearn import cross_validation\n",
      "model = linear_model.LinearRegression()\n",
      "scores = cross_validation.cross_val_score(model, f5k, l5k, n_jobs=-1)\n",
      "scores.mean()"
     ],
     "language": "python",
     "metadata": {},
     "outputs": [
      {
       "metadata": {},
       "output_type": "pyout",
       "prompt_number": 15,
       "text": [
        "0.62404110797888601"
       ]
      }
     ],
     "prompt_number": 15
    },
    {
     "cell_type": "code",
     "collapsed": false,
     "input": [
      "from sklearn.externals import joblib\n",
      "target_folder = os.path.expanduser('~/Experiments')\n",
      "target_path = os.path.join(target_folder, 'model.pkl')\n",
      "joblib.dump(model, target_path)"
     ],
     "language": "python",
     "metadata": {},
     "outputs": [
      {
       "metadata": {},
       "output_type": "pyout",
       "prompt_number": 17,
       "text": [
        "['/home/rhh/Experiments/model.pkl']"
       ]
      }
     ],
     "prompt_number": 17
    },
    {
     "cell_type": "code",
     "collapsed": false,
     "input": [
      "# Train classifier with fastnet\n",
      "# Train classifier with pybrain\n",
      "# Train classifier with pynnet\n",
      "# Train classifier with cuda-convnet and noccn\n",
      "# Train classifier with dropconnect\n",
      "# Train classifier with opencv\n",
      "# Train classifier with neurolab\n",
      "# Train classifier with pylearn2\n",
      "# Train classifier with theano"
     ],
     "language": "python",
     "metadata": {},
     "outputs": []
    },
    {
     "cell_type": "code",
     "collapsed": false,
     "input": [
      "from sklearn import linear_model\n",
      "model = linear_model.LinearRegression()\n",
      "model.fit([x.flatten() for x in arrays], labels)"
     ],
     "language": "python",
     "metadata": {},
     "outputs": [
      {
       "metadata": {},
       "output_type": "pyout",
       "prompt_number": 18,
       "text": [
        "LinearRegression(copy_X=True, fit_intercept=True, normalize=False)"
       ]
      }
     ],
     "prompt_number": 18
    },
    {
     "cell_type": "code",
     "collapsed": false,
     "input": [
      "import os\n",
      "os.path.normpath('///mnt/')\n",
      "os.path.expandvars"
     ],
     "language": "python",
     "metadata": {},
     "outputs": [
      {
       "metadata": {},
       "output_type": "pyout",
       "prompt_number": 20,
       "text": [
        "'/mnt'"
       ]
      }
     ],
     "prompt_number": 20
    }
   ],
   "metadata": {}
  }
 ]
}