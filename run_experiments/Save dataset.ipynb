{
 "metadata": {
  "name": "",
  "signature": "sha256:233e926aa5bc5023630401d68adf17d17376a0cebe9f97c20e6c545d01d40412"
 },
 "nbformat": 3,
 "nbformat_minor": 0,
 "worksheets": [
  {
   "cells": [
    {
     "cell_type": "code",
     "collapsed": false,
     "input": [
      "import h5py\n",
      "import os\n",
      "experiment_folder = os.path.expanduser('~/Experiments')\n",
      "dataset_folder = os.path.expanduser('~/Datasets')"
     ],
     "language": "python",
     "metadata": {},
     "outputs": [],
     "prompt_number": 1
    },
    {
     "cell_type": "code",
     "collapsed": false,
     "input": [
      "target_path = os.path.join(experiment_folder, 'test.h5')\n",
      "try:\n",
      "    f.close()\n",
      "except (NameError, AttributeError):\n",
      "    pass\n",
      "f = h5py.File(target_path, 'w')\n",
      "f.name"
     ],
     "language": "python",
     "metadata": {},
     "outputs": [
      {
       "metadata": {},
       "output_type": "pyout",
       "prompt_number": 2,
       "text": [
        "u'/'"
       ]
      }
     ],
     "prompt_number": 2
    },
    {
     "cell_type": "code",
     "collapsed": false,
     "input": [
      "np.array([[1, 2], [3, 4], [5, 6]]).shape"
     ],
     "language": "python",
     "metadata": {},
     "outputs": [
      {
       "metadata": {},
       "output_type": "pyout",
       "prompt_number": 4,
       "text": [
        "(3, 2)"
       ]
      }
     ],
     "prompt_number": 4
    },
    {
     "cell_type": "code",
     "collapsed": false,
     "input": [
      "import numpy as np\n",
      "arrays = []\n",
      "arrays.append(np.array([[1, 2], [3, 4], [5, 6]]))\n",
      "arrays.append(np.array([[7, 8], [9, 10], [11, 12]]))\n",
      "arrays.append(np.array([[13, 14], [15, 16], [17, 18]]))\n",
      "arrays.append(np.array([[19, 20], [21, 22], [23, 24]]))\n",
      "d = f.create_dataset('ccc', data=arrays)\n",
      "d.shape"
     ],
     "language": "python",
     "metadata": {},
     "outputs": [
      {
       "metadata": {},
       "output_type": "pyout",
       "prompt_number": 11,
       "text": [
        "(4, 3, 2)"
       ]
      }
     ],
     "prompt_number": 11
    },
    {
     "cell_type": "code",
     "collapsed": false,
     "input": [
      "x = np.array([[25, 26], [27, 28], [29, 30]])"
     ],
     "language": "python",
     "metadata": {},
     "outputs": [],
     "prompt_number": 17
    },
    {
     "cell_type": "code",
     "collapsed": false,
     "input": [
      "d[2, :, :] = x\n",
      "d.value"
     ],
     "language": "python",
     "metadata": {},
     "outputs": [
      {
       "metadata": {},
       "output_type": "pyout",
       "prompt_number": 24,
       "text": [
        "array([[[ 1,  2],\n",
        "        [ 3,  4],\n",
        "        [ 5,  6]],\n",
        "\n",
        "       [[ 7,  8],\n",
        "        [ 9, 10],\n",
        "        [11, 12]],\n",
        "\n",
        "       [[25, 26],\n",
        "        [27, 28],\n",
        "        [29, 30]],\n",
        "\n",
        "       [[19, 20],\n",
        "        [21, 22],\n",
        "        [23, 24]]])"
       ]
      }
     ],
     "prompt_number": 24
    },
    {
     "cell_type": "code",
     "collapsed": false,
     "input": [
      "import numpy as np\n",
      "arrays = []\n",
      "arrays.append(np.array([1, 2]))\n",
      "arrays.append(np.array([7, 8]))\n",
      "arrays.append(np.array([13, 14]))\n",
      "arrays.append(np.array([19, 20]))\n",
      "d = f.create_dataset('ddd', data=arrays)\n",
      "d.shape"
     ],
     "language": "python",
     "metadata": {},
     "outputs": [
      {
       "metadata": {},
       "output_type": "pyout",
       "prompt_number": 25,
       "text": [
        "(4, 2)"
       ]
      }
     ],
     "prompt_number": 25
    },
    {
     "cell_type": "code",
     "collapsed": false,
     "input": [
      "import numpy as np\n",
      "x = np.array([[100, 100], [200, 200]])\n",
      "dataset = f.create_dataset('positives', data=x, compression='gzip')"
     ],
     "language": "python",
     "metadata": {},
     "outputs": [],
     "prompt_number": 30
    },
    {
     "cell_type": "code",
     "collapsed": false,
     "input": [
      "print dataset.dtype\n",
      "print dataset.shape\n",
      "print dataset.value"
     ],
     "language": "python",
     "metadata": {},
     "outputs": [
      {
       "output_type": "stream",
       "stream": "stdout",
       "text": [
        "int64\n",
        "(2, 2)\n",
        "[[100 100]\n",
        " [200 200]]\n"
       ]
      }
     ],
     "prompt_number": 35
    },
    {
     "cell_type": "code",
     "collapsed": false,
     "input": [
      "import os\n",
      "print os.path.abspath('/mnt/')\n",
      "print os.path.normpath('/mnt/')"
     ],
     "language": "python",
     "metadata": {},
     "outputs": [
      {
       "output_type": "stream",
       "stream": "stdout",
       "text": [
        "/mnt\n",
        "/mnt\n"
       ]
      }
     ],
     "prompt_number": 37
    },
    {
     "cell_type": "code",
     "collapsed": false,
     "input": [
      "a = np.array([1, 2])\n",
      "b = np.array([3, 4])\n",
      "c = np.dstack([a, b])"
     ],
     "language": "python",
     "metadata": {},
     "outputs": [],
     "prompt_number": 39
    },
    {
     "cell_type": "code",
     "collapsed": false,
     "input": [
      "np.column_stack([a, b])[:, 0]"
     ],
     "language": "python",
     "metadata": {},
     "outputs": [
      {
       "metadata": {},
       "output_type": "pyout",
       "prompt_number": 50,
       "text": [
        "array([1, 2])"
       ]
      }
     ],
     "prompt_number": 50
    },
    {
     "cell_type": "code",
     "collapsed": false,
     "input": [
      "a = np.array([[1, 1], [1, 1]])\n",
      "b = np.array([[2, 2], [2, 2]])"
     ],
     "language": "python",
     "metadata": {},
     "outputs": [],
     "prompt_number": 51
    },
    {
     "cell_type": "code",
     "collapsed": false,
     "input": [
      "np.dstack([a, b])[:, :, 0]"
     ],
     "language": "python",
     "metadata": {},
     "outputs": [
      {
       "metadata": {},
       "output_type": "pyout",
       "prompt_number": 57,
       "text": [
        "array([[1, 1],\n",
        "       [1, 1]])"
       ]
      }
     ],
     "prompt_number": 57
    },
    {
     "cell_type": "code",
     "collapsed": false,
     "input": [
      "a = np.array([[[1"
     ],
     "language": "python",
     "metadata": {},
     "outputs": []
    },
    {
     "cell_type": "code",
     "collapsed": false,
     "input": [
      "xs = f.create_dataset('xs', shape=(100,))"
     ],
     "language": "python",
     "metadata": {},
     "outputs": [],
     "prompt_number": 61
    },
    {
     "cell_type": "code",
     "collapsed": false,
     "input": [
      "ys = f.create_dataset('ys', data=[a, b])"
     ],
     "language": "python",
     "metadata": {},
     "outputs": [],
     "prompt_number": 67
    },
    {
     "cell_type": "code",
     "collapsed": false,
     "input": [
      "ys.value[1, :, :]"
     ],
     "language": "python",
     "metadata": {},
     "outputs": [
      {
       "metadata": {},
       "output_type": "pyout",
       "prompt_number": 75,
       "text": [
        "array([[2, 2],\n",
        "       [2, 2]])"
       ]
      }
     ],
     "prompt_number": 75
    },
    {
     "cell_type": "code",
     "collapsed": false,
     "input": [
      "from scipy.sparse import lil_matrix\n",
      "lil_matrix?"
     ],
     "language": "python",
     "metadata": {},
     "outputs": [],
     "prompt_number": 2
    },
    {
     "cell_type": "code",
     "collapsed": false,
     "input": [
      "# Estimate positive pixel area using multiplication"
     ],
     "language": "python",
     "metadata": {},
     "outputs": []
    },
    {
     "cell_type": "code",
     "collapsed": false,
     "input": [
      "# Estimate positive pixel area using coverage\n",
      "image\n",
      "points"
     ],
     "language": "python",
     "metadata": {},
     "outputs": []
    },
    {
     "cell_type": "code",
     "collapsed": false,
     "input": [
      "reduce(lambda x, y: x * y, [1, 2])"
     ],
     "language": "python",
     "metadata": {},
     "outputs": [
      {
       "metadata": {},
       "output_type": "pyout",
       "prompt_number": 5,
       "text": [
        "2"
       ]
      }
     ],
     "prompt_number": 5
    },
    {
     "cell_type": "code",
     "collapsed": false,
     "input": [
      "import operator\n",
      "operator.mul"
     ],
     "language": "python",
     "metadata": {},
     "outputs": [
      {
       "metadata": {},
       "output_type": "pyout",
       "prompt_number": 2,
       "text": [
        "<function operator.mul>"
       ]
      }
     ],
     "prompt_number": 2
    },
    {
     "cell_type": "code",
     "collapsed": false,
     "input": [
      "import re\n",
      "import fnmatch\n",
      "p = re.compile(fnmatch.translate('*.txt'), re.IGNORECASE)\n",
      "print p.match('xxx.txt')\n",
      "print p.match('XXX.TXT')"
     ],
     "language": "python",
     "metadata": {},
     "outputs": [
      {
       "output_type": "stream",
       "stream": "stdout",
       "text": [
        "<_sre.SRE_Match object at 0x3207e00>\n",
        "<_sre.SRE_Match object at 0x3207e00>\n"
       ]
      }
     ],
     "prompt_number": 8
    },
    {
     "cell_type": "code",
     "collapsed": false,
     "input": [
      "from rtree import index\n",
      "points = [\n",
      "    (0, 0),\n",
      "    (5, 5),\n",
      "]\n",
      "idx = index.Index()\n",
      "for point_index, point in enumerate(points):\n",
      "    idx.insert(point_index, point)\n",
      "list(idx.intersection((4, 4, 6, 6)))"
     ],
     "language": "python",
     "metadata": {},
     "outputs": [
      {
       "metadata": {},
       "output_type": "pyout",
       "prompt_number": 25,
       "text": [
        "[1]"
       ]
      }
     ],
     "prompt_number": 25
    },
    {
     "cell_type": "code",
     "collapsed": false,
     "input": [
      "import numpy as np\n",
      "pixel_xy = np.array([100, 100])\n",
      "pixel_dimensions = np.array([10, 10])\n",
      "list(pixel_xy) + list(pixel_xy + pixel_dimensions)"
     ],
     "language": "python",
     "metadata": {},
     "outputs": [
      {
       "metadata": {},
       "output_type": "pyout",
       "prompt_number": 31,
       "text": [
        "[100, 100, 110, 110]"
       ]
      }
     ],
     "prompt_number": 31
    },
    {
     "cell_type": "code",
     "collapsed": false,
     "input": [
      "import random\n",
      "random.randint(0, 3)"
     ],
     "language": "python",
     "metadata": {},
     "outputs": [
      {
       "metadata": {},
       "output_type": "pyout",
       "prompt_number": 13,
       "text": [
        "1"
       ]
      }
     ],
     "prompt_number": 13
    },
    {
     "cell_type": "code",
     "collapsed": false,
     "input": [
      "import re\n",
      "re.match(r'(\\d+)([km])', '10k').groups()"
     ],
     "language": "python",
     "metadata": {},
     "outputs": [
      {
       "metadata": {},
       "output_type": "pyout",
       "prompt_number": 4,
       "text": [
        "('10', 'k')"
       ]
      }
     ],
     "prompt_number": 4
    },
    {
     "cell_type": "code",
     "collapsed": false,
     "input": [
      "SCALE_BY_UNIT = {\n",
      "    'h': 10 ** 2,\n",
      "    'k': 10 ** 3,\n",
      "    'm': 10 ** 6,\n",
      "    'g': 10 ** 9,\n",
      "}\n",
      "\n",
      "def parse_dataset_size(dataset_size_string):\n",
      "    dataset_size_string = dataset_size_string.lower()\n",
      "    dataset_size_template = r'(\\d+)([%s])' % ''.join(SCALE_BY_UNIT)\n",
      "    scaled_size, unit = re.match(dataset_size_template, dataset_size_string).groups()\n",
      "    scaled_size = int(scaled_size)\n",
      "    scale = SCALE_BY_UNIT[unit]\n",
      "    return scaled_size * scale\n",
      "\n",
      "\n",
      "def format_dataset_size(dataset_size):\n",
      "    scale_unit_packs = [(scale, unit) for unit, scale in SCALE_BY_UNIT.iteritems()]\n",
      "    for scale, unit in sorted(scale_unit_packs, reverse=True):\n",
      "        scaled_size = dataset_size / int(scale)\n",
      "        if scaled_size != dataset_size / float(scale):\n",
      "            continue\n",
      "        return '%s%s' % (scaled_size, unit)\n",
      "\n",
      "print parse_dataset_size('10k')\n",
      "print format_dataset_size(10000)"
     ],
     "language": "python",
     "metadata": {},
     "outputs": [
      {
       "output_type": "stream",
       "stream": "stdout",
       "text": [
        "10000\n",
        "10k\n"
       ]
      }
     ],
     "prompt_number": 11
    },
    {
     "cell_type": "code",
     "collapsed": false,
     "input": [
      "from shapely.geometry import box\n",
      "b1 = box(5, 5, 10, 10)\n",
      "b2 = box(0, 0, 20, 20)\n",
      "b1.intersects(b2)"
     ],
     "language": "python",
     "metadata": {},
     "outputs": [
      {
       "metadata": {},
       "output_type": "pyout",
       "prompt_number": 5,
       "text": [
        "True"
       ]
      }
     ],
     "prompt_number": 5
    },
    {
     "cell_type": "code",
     "collapsed": false,
     "input": [
      "box(20, 20, 0, 0) == box(0, 0, 20, 20)"
     ],
     "language": "python",
     "metadata": {},
     "outputs": [
      {
       "metadata": {},
       "output_type": "pyout",
       "prompt_number": 8,
       "text": [
        "False"
       ]
      }
     ],
     "prompt_number": 8
    }
   ],
   "metadata": {}
  }
 ]
}