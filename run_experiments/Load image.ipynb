{
 "metadata": {
  "name": "",
  "signature": "sha256:5622d1f6946a488c3e84494dd8ad626557a797525a5302774fed8e136dfbc7be"
 },
 "nbformat": 3,
 "nbformat_minor": 0,
 "worksheets": [
  {
   "cells": [
    {
     "cell_type": "code",
     "collapsed": false,
     "input": [
      "import fnmatch\n",
      "import os\n",
      "from glob import glob\n",
      "from osgeo import gdal\n",
      "\n",
      "source_folder = os.path.expanduser('~/Links/satellite-images/Myanmar')\n",
      "image_paths = glob(os.path.join(source_folder, '*.tif'))\n",
      "# multispectral_paths = fnmatch.filter(image_paths, '*-M2AS-*')\n",
      "# panchromatic_paths = fnmatch.filter(image_paths, '*-P2AS-*')"
     ],
     "language": "python",
     "metadata": {},
     "outputs": [],
     "prompt_number": 3
    },
    {
     "cell_type": "code",
     "collapsed": false,
     "input": [
      "image_paths"
     ],
     "language": "python",
     "metadata": {},
     "outputs": [
      {
       "metadata": {},
       "output_type": "pyout",
       "prompt_number": 4,
       "text": [
        "['/home/rhh/Links/satellite-images/Myanmar/o12JAN12044704-S2AS-053388615010_01_P001.tif']"
       ]
      }
     ],
     "prompt_number": 4
    },
    {
     "cell_type": "heading",
     "level": 1,
     "metadata": {},
     "source": [
      "Load images"
     ]
    },
    {
     "cell_type": "code",
     "collapsed": false,
     "input": [
      "image_path = image_paths[0]\n",
      "image = gdal.Open(image_path)\n",
      "print (image.RasterXSize, image.RasterYSize)\n",
      "print image.GetGeoTransform()\n",
      "print image.RasterCount"
     ],
     "language": "python",
     "metadata": {},
     "outputs": [
      {
       "output_type": "stream",
       "stream": "stdout",
       "text": [
        "(30843, 14932)\n",
        "(223465.5, 0.5, 0.0, 2419834.5, 0.0, -0.5)\n",
        "4\n"
       ]
      }
     ],
     "prompt_number": 5
    },
    {
     "cell_type": "code",
     "collapsed": false,
     "input": [
      "# Determine limits\n",
      "band = image.GetRasterBand(1)\n",
      "band.ReadRaster(image.RasterXSize - 10, image.RasterYSize - 10, 10, 10)"
     ],
     "language": "python",
     "metadata": {},
     "outputs": [
      {
       "metadata": {},
       "output_type": "pyout",
       "prompt_number": 21,
       "text": [
        "'\\x00\\x00\\x00\\x00\\x00\\x00\\x00\\x00\\x00\\x00\\x00\\x00\\x00\\x00\\x00\\x00\\x00\\x00\\x00\\x00\\x00\\x00\\x00\\x00\\x00\\x00\\x00\\x00\\x00\\x00\\x00\\x00\\x00\\x00\\x00\\x00\\x00\\x00\\x00\\x00\\x00\\x00\\x00\\x00\\x00\\x00\\x00\\x00\\x00\\x00\\x00\\x00\\x00\\x00\\x00\\x00\\x00\\x00\\x00\\x00\\x00\\x00\\x00\\x00\\x00\\x00\\x00\\x00\\x00\\x00\\x00\\x00\\x00\\x00\\x00\\x00\\x00\\x00\\x00\\x00\\x00\\x00\\x00\\x00\\x00\\x00\\x00\\x00\\x00\\x00\\x00\\x00\\x00\\x00\\x00\\x00\\x00\\x00\\x00\\x00'"
       ]
      }
     ],
     "prompt_number": 21
    },
    {
     "cell_type": "code",
     "collapsed": false,
     "input": [
      "print gdal.GDT_Byte\n",
      "print gdal.GDT_UInt16\n",
      "print gdal.GDT_Float32"
     ],
     "language": "python",
     "metadata": {},
     "outputs": [
      {
       "output_type": "stream",
       "stream": "stdout",
       "text": [
        "1\n",
        "2\n",
        "6\n"
       ]
      }
     ],
     "prompt_number": 9
    },
    {
     "cell_type": "code",
     "collapsed": false,
     "input": [
      "band = image.GetRasterBand(1)\n",
      "print band.DataType\n",
      "print len(band.ReadRaster(0, 0, 10, 10))\n",
      "print len(band.ReadRaster(0, 0, 10, 10, buf_type=gdal.GDT_Float32))"
     ],
     "language": "python",
     "metadata": {},
     "outputs": [
      {
       "output_type": "stream",
       "stream": "stdout",
       "text": [
        "2\n",
        "200\n",
        "100\n",
        "400\n"
       ]
      }
     ],
     "prompt_number": 103
    },
    {
     "cell_type": "code",
     "collapsed": false,
     "input": [
      "raw_values = band.ReadRaster(500, 500, 10, 5)\n",
      "raw_values"
     ],
     "language": "python",
     "metadata": {},
     "outputs": [
      {
       "metadata": {},
       "output_type": "pyout",
       "prompt_number": 116,
       "text": [
        "'\\xd8\\x00\\xd4\\x00\\xdf\\x00\\xe8\\x00\\xf1\\x00\\xf1\\x00\\xf1\\x00\\xf1\\x00\\xf5\\x00\\xf7\\x00\\xd8\\x00\\xd4\\x00\\xd6\\x00\\xdf\\x00\\xf0\\x00\\xf0\\x00\\xdc\\x00\\xf6\\x00\\xf5\\x00\\xf7\\x00\\xd7\\x00\\xd4\\x00\\xd5\\x00\\xd4\\x00\\xd4\\x00\\xdc\\x00\\xd9\\x00\\xec\\x00\\xee\\x00\\xe6\\x00\\xe0\\x00\\xdd\\x00\\xda\\x00\\xda\\x00\\xd8\\x00\\xe1\\x00\\xe1\\x00\\xde\\x00\\xe2\\x00\\xdb\\x00\\xf7\\x00\\xf6\\x00\\xf7\\x00\\xf7\\x00\\xe7\\x00\\xe3\\x00\\xe3\\x00\\xdf\\x00\\xd7\\x00\\xd9\\x00'"
       ]
      }
     ],
     "prompt_number": 116
    },
    {
     "cell_type": "code",
     "collapsed": false,
     "input": [
      "band.ReadRaster(2800, 2900, 100, 100)"
     ],
     "language": "python",
     "metadata": {},
     "outputs": [],
     "prompt_number": 135
    },
    {
     "cell_type": "code",
     "collapsed": false,
     "input": [
      "typeByGDT = {\n",
      "    gdal.GDT_Byte: 'B',\n",
      "    gdal.GDT_UInt16: 'H',\n",
      "}\n",
      "modeByType = {\n",
      "    gdal.GDT_Byte: 'L',\n",
      "    gdal.GDT_UInt16: 'I;16',\n",
      "}\n",
      "width, height = 10, 5\n",
      "length = width * height\n",
      "\n",
      "import struct\n",
      "values = struct.unpack('%d%s' % (length, typeByGDT[band.DataType]), raw_values)\n",
      "array = np.reshape(values, (height, width))\n",
      "print array"
     ],
     "language": "python",
     "metadata": {},
     "outputs": [
      {
       "output_type": "stream",
       "stream": "stdout",
       "text": [
        "[[216 212 223 232 241 241 241 241 245 247]\n",
        " [216 212 214 223 240 240 220 246 245 247]\n",
        " [215 212 213 212 212 220 217 236 238 230]\n",
        " [224 221 218 218 216 225 225 222 226 219]\n",
        " [247 246 247 247 231 227 227 223 215 217]]\n"
       ]
      }
     ],
     "prompt_number": 117
    },
    {
     "cell_type": "code",
     "collapsed": false,
     "input": [
      "import struct\n",
      "struct.unpack?"
     ],
     "language": "python",
     "metadata": {},
     "outputs": [],
     "prompt_number": 132
    },
    {
     "cell_type": "code",
     "collapsed": false,
     "input": [
      "a = [[1,2],[3,4]]\n",
      "b = [[5,6],[7,8]]\n",
      "x = np.dstack((a,b))\n",
      "print x[1][0][0]"
     ],
     "language": "python",
     "metadata": {},
     "outputs": [
      {
       "output_type": "stream",
       "stream": "stdout",
       "text": [
        "3\n"
       ]
      }
     ],
     "prompt_number": 131
    },
    {
     "cell_type": "code",
     "collapsed": false,
     "input": [
      "a[0]"
     ],
     "language": "python",
     "metadata": {},
     "outputs": [
      {
       "metadata": {},
       "output_type": "pyout",
       "prompt_number": 121,
       "text": [
        "[1, 2]"
       ]
      }
     ],
     "prompt_number": 121
    },
    {
     "cell_type": "code",
     "collapsed": false,
     "input": [
      "print multispectral_paths[0]\n",
      "print panchromatic_paths[0]"
     ],
     "language": "python",
     "metadata": {},
     "outputs": [
      {
       "output_type": "stream",
       "stream": "stdout",
       "text": [
        "/home/rhh/Links/satellite-images/ruhiira/2003/Imagery/Orthorectified/03JUN22080921-M2AS-005604702010_01_P001.TIF\n",
        "/home/rhh/Links/satellite-images/ruhiira/2003/Imagery/Orthorectified/03JUN22080921-P2AS-005604702010_01_P001.TIF\n"
       ]
      }
     ],
     "prompt_number": 65
    },
    {
     "cell_type": "code",
     "collapsed": false,
     "input": [
      "meter_dimensions = 10, 10\n",
      "multispectral_image = SatelliteImage(multispectral_paths[0])\n",
      "panchromatic_image = SatelliteImage(panchromatic_paths[0])\n",
      "mixed_scope = MixedImageScope([multispectral_image, panchromatic_image], meter_dimensions)\n",
      "\n",
      "for index, center in enumerate(mixed_scope.get_centers()):\n",
      "    values = mixed_scope.get_values(center)\n",
      "    save_values(target_path % index, values)"
     ],
     "language": "python",
     "metadata": {},
     "outputs": []
    },
    {
     "cell_type": "code",
     "collapsed": false,
     "input": [
      "round(-10.7)"
     ],
     "language": "python",
     "metadata": {},
     "outputs": [
      {
       "metadata": {},
       "output_type": "pyout",
       "prompt_number": 8,
       "text": [
        "-11.0"
       ]
      }
     ],
     "prompt_number": 8
    },
    {
     "cell_type": "code",
     "collapsed": false,
     "input": [
      "from osgeo import osr\n",
      "\n",
      "spatial_reference = osr.SpatialReference()\n",
      "spatial_reference"
     ],
     "language": "python",
     "metadata": {},
     "outputs": [
      {
       "metadata": {},
       "output_type": "pyout",
       "prompt_number": 68,
       "text": [
        "<osgeo.osr.SpatialReference; proxy of <Swig Object of type 'OSRSpatialReferenceShadow *' at 0x3a6b150> >"
       ]
      }
     ],
     "prompt_number": 68
    },
    {
     "cell_type": "code",
     "collapsed": false,
     "input": [
      "def getImages_pylab(string_method, matrices, imageWidthInPixels, imageHeightInPixels):\n",
      "    # Initialize\n",
      "    images = []\n",
      "    convertPixelLengthToInchLength = lambda x: x / float(matplotlib.rc_params()['figure.dpi'])\n",
      "    imageWidthInInches = convertPixelLengthToInchLength(imageWidthInPixels)\n",
      "    imageHeightInInches = convertPixelLengthToInchLength(imageHeightInPixels)\n",
      "    imageDimensions = imageWidthInInches, imageHeightInInches\n",
      "    # For each matrix,\n",
      "    for matrix in matrices:\n",
      "        # Create a new figure\n",
      "        pylab.figure(figsize=imageDimensions)\n",
      "        axes = pylab.axes()\n",
      "        # Plot grayscale matrix\n",
      "        method = getattr(axes, string_method)\n",
      "        method(matrix, cmap=pylab.cm.gray)\n",
      "        # Clear tick marks\n",
      "        axes.set_xticks([])\n",
      "        axes.set_yticks([])\n",
      "        # Save image\n",
      "        imageFile = StringIO.StringIO()\n",
      "        pylab.savefig(imageFile, format='png')\n",
      "        imageFile.seek(0)\n",
      "        # Append\n",
      "        images.append(Image.open(imageFile))\n",
      "    # Return\n",
      "    return images"
     ],
     "language": "python",
     "metadata": {},
     "outputs": []
    },
    {
     "cell_type": "code",
     "collapsed": false,
     "input": [
      "from sympy import solve, symbols\n",
      "g0, g1, g2, g3, g4, g5 = symbols('g0 g1 g2 g3 g4 g5')\n",
      "gx, gy = symbols('gx gy')\n",
      "px, py = symbols('px py')\n",
      "\n",
      "solve([\n",
      "    g0 + px * g1 + py * g2 - x,\n",
      "    g3 + px * g4 + py * g5 - y\n",
      "], [px, py])"
     ],
     "language": "python",
     "metadata": {},
     "outputs": [
      {
       "metadata": {},
       "output_type": "pyout",
       "prompt_number": 9,
       "text": [
        "{px: (-g0*g5 + g2*g3 - g2*y + g5*x)/(g1*g5 - g2*g4),\n",
        " py: (-g1*(g3 - y) + g4*(g0 - x))/(g1*g5 - g2*g4)}"
       ]
      }
     ],
     "prompt_number": 9
    },
    {
     "cell_type": "code",
     "collapsed": false,
     "input": [
      "from numpy import random\n",
      "x = random.random(2)\n",
      "(x == x).all()"
     ],
     "language": "python",
     "metadata": {},
     "outputs": [
      {
       "metadata": {},
       "output_type": "pyout",
       "prompt_number": 41,
       "text": [
        "True"
       ]
      }
     ],
     "prompt_number": 41
    },
    {
     "cell_type": "code",
     "collapsed": false,
     "input": [
      "[2, 3] - np.array([1, 2]) / 2"
     ],
     "language": "python",
     "metadata": {},
     "outputs": [
      {
       "metadata": {},
       "output_type": "pyout",
       "prompt_number": 44,
       "text": [
        "array([2, 2])"
       ]
      }
     ],
     "prompt_number": 44
    },
    {
     "cell_type": "code",
     "collapsed": false,
     "input": [
      "pixel_center = 0, 0\n",
      "pixel_dimensions = np.array([101, 101])\n",
      "pixel_xy = pixel_center - pixel_dimensions / 2\n",
      "print pixel_xy\n",
      "print (pixel_xy + pixel_dimensions) - pixel_xy"
     ],
     "language": "python",
     "metadata": {},
     "outputs": [
      {
       "output_type": "stream",
       "stream": "stdout",
       "text": [
        "[-50 -50]\n",
        "[101 101]\n"
       ]
      }
     ],
     "prompt_number": 64
    },
    {
     "cell_type": "code",
     "collapsed": false,
     "input": [
      "cd .."
     ],
     "language": "python",
     "metadata": {},
     "outputs": [
      {
       "output_type": "stream",
       "stream": "stdout",
       "text": [
        "/home/rhh/Projects/count-buildings\n"
       ]
      }
     ],
     "prompt_number": 1
    },
    {
     "cell_type": "code",
     "collapsed": false,
     "input": [
      "import os\n",
      "from glob import glob\n",
      "from satellite_image import SatelliteImage\n",
      "\n",
      "source_folder = os.path.expanduser('~/Links/satellite-images/myanmar')\n",
      "image_paths = glob(os.path.join(source_folder, '*.tif'))\n",
      "s = SatelliteImage(image_paths[0])"
     ],
     "language": "python",
     "metadata": {},
     "outputs": [],
     "prompt_number": 2
    },
    {
     "cell_type": "code",
     "collapsed": false,
     "input": [
      "pixel_xy = s.get_pixel_xy((224758, 2416015))\n",
      "pixel_dimensions = 500, 500"
     ],
     "language": "python",
     "metadata": {},
     "outputs": [],
     "prompt_number": 3
    },
    {
     "cell_type": "code",
     "collapsed": false,
     "input": [
      "from matplotlib import pyplot as plt\n",
      "array = s.get_array_from_pixel_frame(pixel_xy, pixel_dimensions)"
     ],
     "language": "python",
     "metadata": {},
     "outputs": [],
     "prompt_number": 4
    },
    {
     "cell_type": "code",
     "collapsed": false,
     "input": [
      "array.max()"
     ],
     "language": "python",
     "metadata": {},
     "outputs": [
      {
       "metadata": {},
       "output_type": "pyout",
       "prompt_number": 5,
       "text": [
        "254"
       ]
      }
     ],
     "prompt_number": 5
    },
    {
     "cell_type": "code",
     "collapsed": false,
     "input": [
      "target_folder = os.path.expanduser('~/Downloads')\n",
      "target_path = os.path.join(target_folder, 'image.jpg')\n",
      "# plt.imsave(target_path, array[:, :, :3], vmin=0)\n",
      "s.save_array_from_pixel_frame(target_path, pixel_xy, pixel_dimensions)"
     ],
     "language": "python",
     "metadata": {},
     "outputs": [],
     "prompt_number": 11
    },
    {
     "cell_type": "code",
     "collapsed": false,
     "input": [
      "r = s._image.GetRasterBand(1)\n",
      "r.GetMaximum()"
     ],
     "language": "python",
     "metadata": {},
     "outputs": [
      {
       "metadata": {},
       "output_type": "pyout",
       "prompt_number": 30,
       "text": [
        "254.0"
       ]
      }
     ],
     "prompt_number": 30
    },
    {
     "cell_type": "code",
     "collapsed": false,
     "input": [
      "bands = [s._image.GetRasterBand(i + 1) for i in xrange(s._image.RasterCount)]\n",
      "print [(x.GetMinimum(), x.GetMaximum()) for x in bands]\n",
      "print bands[-1].ComputeRasterMinMax()"
     ],
     "language": "python",
     "metadata": {},
     "outputs": [
      {
       "output_type": "stream",
       "stream": "stdout",
       "text": [
        "[(1.0, 254.0), (1.0, 254.0), (1.0, 254.0), (None, None)]\n",
        "(0.0, 254.0)"
       ]
      },
      {
       "output_type": "stream",
       "stream": "stdout",
       "text": [
        "\n"
       ]
      }
     ],
     "prompt_number": 35
    },
    {
     "cell_type": "code",
     "collapsed": false,
     "input": [
      "import numpy as np\n",
      "print np.array([(x.GetMinimum(), x.GetMaximum()) for x in bands]).min()\n",
      "print np.array([(x.GetMinimum(), x.GetMaximum()) for x in bands]).max()"
     ],
     "language": "python",
     "metadata": {},
     "outputs": [
      {
       "output_type": "stream",
       "stream": "stdout",
       "text": [
        "None\n",
        "254.0\n"
       ]
      }
     ],
     "prompt_number": 43
    },
    {
     "cell_type": "code",
     "collapsed": false,
     "input": [
      "s._vmax"
     ],
     "language": "python",
     "metadata": {},
     "outputs": [
      {
       "metadata": {},
       "output_type": "pyout",
       "prompt_number": 5,
       "text": [
        "254.0"
       ]
      }
     ],
     "prompt_number": 5
    },
    {
     "cell_type": "code",
     "collapsed": false,
     "input": [
      "from satellite_image import ImageScope\n",
      "image_scope = ImageScope(image_paths[0], (1000, 1000))"
     ],
     "language": "python",
     "metadata": {},
     "outputs": [
      {
       "ename": "ImportError",
       "evalue": "No module named satellite_image",
       "output_type": "pyerr",
       "traceback": [
        "\u001b[1;31m---------------------------------------------------------------------------\u001b[0m\n\u001b[1;31mImportError\u001b[0m                               Traceback (most recent call last)",
        "\u001b[1;32m<ipython-input-4-5be49351938c>\u001b[0m in \u001b[0;36m<module>\u001b[1;34m()\u001b[0m\n\u001b[1;32m----> 1\u001b[1;33m \u001b[1;32mfrom\u001b[0m \u001b[0msatellite_image\u001b[0m \u001b[1;32mimport\u001b[0m \u001b[0mImageScope\u001b[0m\u001b[1;33m\u001b[0m\u001b[0m\n\u001b[0m\u001b[0;32m      2\u001b[0m \u001b[0mimage_scope\u001b[0m \u001b[1;33m=\u001b[0m \u001b[0mImageScope\u001b[0m\u001b[1;33m(\u001b[0m\u001b[0mimage_paths\u001b[0m\u001b[1;33m[\u001b[0m\u001b[1;36m0\u001b[0m\u001b[1;33m]\u001b[0m\u001b[1;33m,\u001b[0m \u001b[1;33m(\u001b[0m\u001b[1;36m1000\u001b[0m\u001b[1;33m,\u001b[0m \u001b[1;36m1000\u001b[0m\u001b[1;33m)\u001b[0m\u001b[1;33m)\u001b[0m\u001b[1;33m\u001b[0m\u001b[0m\n",
        "\u001b[1;31mImportError\u001b[0m: No module named satellite_image"
       ]
      }
     ],
     "prompt_number": 4
    },
    {
     "cell_type": "code",
     "collapsed": false,
     "input": [
      "g = image_scope.yield_pixel_xy((10000, 10000))\n",
      "list(g)"
     ],
     "language": "python",
     "metadata": {},
     "outputs": [
      {
       "metadata": {},
       "output_type": "pyout",
       "prompt_number": 8,
       "text": [
        "[(0, 0),\n",
        " (10000, 0),\n",
        " (20000, 0),\n",
        " (30000, 0),\n",
        " (0, 10000),\n",
        " (10000, 10000),\n",
        " (20000, 10000),\n",
        " (30000, 10000)]"
       ]
      }
     ],
     "prompt_number": 8
    },
    {
     "cell_type": "code",
     "collapsed": false,
     "input": [
      "image_scope.pixel_dimensions"
     ],
     "language": "python",
     "metadata": {},
     "outputs": [
      {
       "metadata": {},
       "output_type": "pyout",
       "prompt_number": 7,
       "text": [
        "(30843, 14932)"
       ]
      }
     ],
     "prompt_number": 7
    },
    {
     "cell_type": "code",
     "collapsed": false,
     "input": [
      "target_folder = os.path.expanduser('~/Downloads')\n",
      "for index, pixel_xy in enumerate(image_scope.yield_pixel_xy((1000, 1000))):\n",
      "    target_path = os.path.join(target_folder, 'image%s.jpg' % index)\n",
      "    image_scope.save_pixel_frame(target_path, pixel_xy, (1000, 1000))"
     ],
     "language": "python",
     "metadata": {},
     "outputs": [],
     "prompt_number": 10
    },
    {
     "cell_type": "code",
     "collapsed": false,
     "input": [
      "image.ReadAsArray(0, 0, 10, 10).dtype"
     ],
     "language": "python",
     "metadata": {},
     "outputs": [
      {
       "metadata": {},
       "output_type": "pyout",
       "prompt_number": 7,
       "text": [
        "dtype('uint8')"
       ]
      }
     ],
     "prompt_number": 7
    },
    {
     "cell_type": "code",
     "collapsed": false,
     "input": [
      "import numpy as np\n",
      "np.array([1, 1]).dtype"
     ],
     "language": "python",
     "metadata": {},
     "outputs": [
      {
       "metadata": {},
       "output_type": "pyout",
       "prompt_number": 9,
       "text": [
        "dtype('int64')"
       ]
      }
     ],
     "prompt_number": 9
    }
   ],
   "metadata": {}
  }
 ]
}